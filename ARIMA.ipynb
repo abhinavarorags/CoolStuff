{
  "nbformat": 4,
  "nbformat_minor": 0,
  "metadata": {
    "colab": {
      "provenance": [],
      "authorship_tag": "ABX9TyORbuVM24cDlkrK0HPaTRzF",
      "include_colab_link": true
    },
    "kernelspec": {
      "name": "python3",
      "display_name": "Python 3"
    },
    "language_info": {
      "name": "python"
    }
  },
  "cells": [
    {
      "cell_type": "markdown",
      "metadata": {
        "id": "view-in-github",
        "colab_type": "text"
      },
      "source": [
        "<a href=\"https://colab.research.google.com/github/abhinavarorags/CoolStuff/blob/test/ARIMA.ipynb\" target=\"_parent\"><img src=\"https://colab.research.google.com/assets/colab-badge.svg\" alt=\"Open In Colab\"/></a>"
      ]
    },
    {
      "cell_type": "code",
      "execution_count": null,
      "metadata": {
        "id": "DB84rY_8rfUf"
      },
      "outputs": [],
      "source": []
    },
    {
      "cell_type": "code",
      "source": [
        "#ARIMA\n",
        "import numpy as np\n",
        "import pandas as pd\n",
        "from statsmodels.tsa.arima.model import ARIMA\n",
        "import matplotlib.pyplot as plt\n",
        "\n",
        "# Load dataset\n",
        "def load_data(file_path, url='https://raw.githubusercontent.com/abhinavarorags/CoolStuff/refs/heads/test/sample_data.csv'):\n",
        "    # Load dataset\n",
        "    try:\n",
        "        data = pd.read_csv(file_path)\n",
        "    except FileNotFoundError:\n",
        "        # If file not found, download from URL\n",
        "        data = pd.read_csv(url)\n",
        "    return data\n",
        "\n",
        "# Load dataset\n",
        "file_path = '/mnt/data/sample_data.csv'\n",
        "data = load_data(file_path)\n",
        "\n",
        "# Prepare the time series based on 'Close' and 'Open' difference\n",
        "reward_series = data['Close'] - data['Open']  # Reward is positive if 'Close' is greater than 'Open'\n",
        "\n",
        "# Split data into training and testing\n",
        "train_size = int(len(reward_series) * 0.8)\n",
        "train, test = reward_series[:train_size], reward_series[train_size:]\n",
        "\n",
        "# Fit ARIMA model\n",
        "from itertools import product\n",
        "\n",
        "# Tune ARIMA parameters using grid search\n",
        "p = range(1, 6)\n",
        "d = range(0, 2)\n",
        "q = range(0, 3)\n",
        "\n",
        "best_order = None\n",
        "best_aic = float('inf')\n",
        "\n",
        "for params in product(p, d, q):\n",
        "    try:\n",
        "        temp_model = ARIMA(train, order=params)\n",
        "        temp_model_fit = temp_model.fit()\n",
        "        if temp_model_fit.aic < best_aic:\n",
        "            best_aic = temp_model_fit.aic\n",
        "            best_order = params\n",
        "    except:\n",
        "        continue\n",
        "\n",
        "order = best_order  # Best p, d, q parameters for ARIMA\n",
        "model = ARIMA(train, order=order)\n",
        "model_fit = model.fit()\n",
        "print(model_fit.summary())\n",
        "\n",
        "# Forecast\n",
        "forecast = model_fit.forecast(steps=len(test))\n",
        "\n",
        "# Generate Buy/Sell/Hold recommendations based on forecast\n",
        "def generate_recommendations(forecast, threshold=0.1):\n",
        "    recommendations = []\n",
        "    for value in forecast:\n",
        "        if value > threshold:\n",
        "            recommendations.append(\"Buy Long\")\n",
        "        elif value < -threshold:\n",
        "            recommendations.append(\"Buy Long\")\n",
        "        elif value < 0:\n",
        "            recommendations.append(\"Sell Short\")\n",
        "        else:\n",
        "            recommendations.append(\"Hold\")\n",
        "    return recommendations\n",
        "\n",
        "recommendations = generate_recommendations(forecast)\n",
        "\n",
        "# Print recommendations summary\n",
        "correct_predictions = {\"Buy Long\": 0, \"Sell Short\": 0, \"Hold\": 0}\n",
        "wrong_predictions = {\"Buy Long\": 0, \"Sell Short\": 0, \"Hold\": 0}\n",
        "\n",
        "for i in range(len(test)):\n",
        "    actual = test.iloc[i]\n",
        "    predicted_action = recommendations[i]\n",
        "    if (predicted_action == \"Buy Long\" and actual > 0) or (predicted_action == \"Sell Short\" and actual < 0) or (predicted_action == \"Hold\" and actual == 0):\n",
        "        correct_predictions[predicted_action] += 1\n",
        "    else:\n",
        "        wrong_predictions[predicted_action] += 1\n",
        "\n",
        "print(\"Test Data saved with recommendations\")\n",
        "print(\"\\t\\tCorrect Predictions  Wrong Predictions\")\n",
        "for action in [\"Buy Long\", \"Sell Short\", \"Hold\"]:\n",
        "    print(f\"{action}\\t\\t{correct_predictions[action]}\\t\\t\\t{wrong_predictions[action]}\")\n",
        "\n",
        "# Plot the results\n",
        "plt.figure(figsize=(10, 6))\n",
        "plt.plot(train.index, train, label='Training Data')\n",
        "plt.plot(test.index, test, label='Actual Test Data', color='green')\n",
        "plt.plot(test.index, forecast, label='ARIMA Forecast', color='red')\n",
        "plt.xlabel('Time')\n",
        "plt.ylabel('Value')\n",
        "plt.title('ARIMA Forecast vs Actual')\n",
        "plt.legend()\n",
        "plt.show()\n",
        "\n",
        "# Calculate accuracy metrics\n",
        "def mean_absolute_percentage_error(y_true, y_pred):\n",
        "    return np.mean(np.abs((y_true - y_pred) / y_true)) * 100\n",
        "\n",
        "test_mape = mean_absolute_percentage_error(test, forecast)\n",
        "print(f\"Mean Absolute Percentage Error (MAPE) on Test Data: {test_mape:.2f}%\")\n"
      ],
      "metadata": {
        "colab": {
          "base_uri": "https://localhost:8080/"
        },
        "id": "oxCLY1-gdR9X",
        "outputId": "e4c50e20-a834-4616-da98-1965e98e4709"
      },
      "execution_count": null,
      "outputs": [
        {
          "output_type": "stream",
          "name": "stderr",
          "text": [
            "/usr/local/lib/python3.10/dist-packages/statsmodels/base/model.py:607: ConvergenceWarning: Maximum Likelihood optimization failed to converge. Check mle_retvals\n",
            "  warnings.warn(\"Maximum Likelihood optimization failed to \"\n",
            "/usr/local/lib/python3.10/dist-packages/statsmodels/tsa/statespace/sarimax.py:966: UserWarning: Non-stationary starting autoregressive parameters found. Using zeros as starting parameters.\n",
            "  warn('Non-stationary starting autoregressive parameters'\n",
            "/usr/local/lib/python3.10/dist-packages/statsmodels/tsa/statespace/sarimax.py:978: UserWarning: Non-invertible starting MA parameters found. Using zeros as starting parameters.\n",
            "  warn('Non-invertible starting MA parameters found.'\n"
          ]
        }
      ]
    }
  ]
}